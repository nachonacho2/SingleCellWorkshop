{
 "cells": [
  {
   "cell_type": "code",
   "execution_count": null,
   "metadata": {},
   "outputs": [],
   "source": [
    "!pip install scprep phate magic-impute mnnpy scanpy"
   ]
  },
  {
   "cell_type": "code",
   "execution_count": null,
   "metadata": {},
   "outputs": [],
   "source": [
    "import scprep\n",
    "import numpy as np\n",
    "import pandas as pd\n",
    "import matplotlib.pyplot as plt\n",
    "import phate\n",
    "import graphtools as gt\n",
    "import magic\n",
    "import os"
   ]
  },
  {
   "cell_type": "markdown",
   "metadata": {},
   "source": [
    "# Batch correction and gene visualization\n",
    "\n",
    "Here we're going to run batch correction on a two-batch dataset of peripheral blood mononuclear cells (PBMCs) from 10X Genomics. The two batches are from two healthy donors, one using the 10X version 2 chemistry, and the other using the 10X version 3 chemistry.\n",
    "\n",
    "Note that in this case, we have no reason to believe that there would be a genuine biological difference between the two batches (both donors are healthy) and good reason to believe that would be a genuine technical difference between the two batches (they were run with different chemistries). You should only use batch correction if you are confident that the effect you are removing is not genuine biology."
   ]
  },
  {
   "cell_type": "markdown",
   "metadata": {},
   "source": [
    "## 1. Loading preprocessed data"
   ]
  },
  {
   "cell_type": "markdown",
   "metadata": {},
   "source": [
    "We have loaded and preprocessed the PBMC data for you, though you can download the raw files from https://support.10xgenomics.com/single-cell-gene-expression/datasets\n",
    "\n",
    "Alternatively, you may load your own data by replacing the Google Drive file ids with your own file ids.\n",
    "\n",
    "Note that this is only useful if your data has two separate batches."
   ]
  },
  {
   "cell_type": "code",
   "execution_count": null,
   "metadata": {},
   "outputs": [],
   "source": [
    "scprep.io.download.download_google_drive(id='1Ufsqot_Ir43M9XQhVNC27a6yW-_vvC9H',\n",
    "                                         destination='data.pickle.gz')\n",
    "scprep.io.download.download_google_drive(id='1BHji8Dy_jn8sIC60YsXm4sxVbFafnYWI',\n",
    "                                         destination='metadata.pickle.gz')\n",
    "data = pd.read_pickle('data.pickle.gz')\n",
    "metadata = pd.read_pickle('metadata.pickle.gz')"
   ]
  },
  {
   "cell_type": "markdown",
   "metadata": {},
   "source": [
    "## 2. Denoising with MAGIC"
   ]
  },
  {
   "cell_type": "markdown",
   "metadata": {},
   "source": [
    "As mentioned previously, scRNAseq data suffers from various forms of noise - chiefly dropout or under counting of mRNA molecules in single cells. Since analysis of sparse, noisey and non-uniform expression data can be challenging, we impute missing data values with MAGIC. This will aid in the visualization of gene expression and later with more complex analyses.\n",
    "\n",
    "Since PBMCs have 3 major cell types (T cells, B cells, and monocytes), we will selectively impute genes that are specific for this cell types. Selectively imputing genes helps save on memory."
   ]
  },
  {
   "cell_type": "code",
   "execution_count": null,
   "metadata": {},
   "outputs": [],
   "source": [
    "marker_genes = scprep.select.get_gene_set(data, exact_word=['CD4', 'CD8A', 'CD19', 'ITGAX', 'CD14'])\n",
    "\n",
    "data_magic = magic.MAGIC().fit_transform(data, genes=marker_genes)"
   ]
  },
  {
   "cell_type": "markdown",
   "metadata": {},
   "source": [
    "## 3. Characterizing the Batch Effect\n",
    "\n",
    "Whenever you suspect there is a batch effect, you should always start by asking yourself, \"How do I know this difference doesn't represent biologically relevant variation between samples?\"\n",
    "\n",
    "The best way to do this is to start by assessing which genes are most differentially expressed between samples. Here we'll use the differential expression toolkit implemented in [`scprep.stats.differential_expression`](scprep.stats.differential_expression). Another good toolkit for calculating differential expression is [DiffxPy](https://github.com/theislab/diffxpy/)."
   ]
  },
  {
   "cell_type": "code",
   "execution_count": null,
   "metadata": {},
   "outputs": [],
   "source": [
    "# Calculate the differential expression by calculating the t-statistic between samples\n",
    "results = scprep.stats.differential_expression(data.loc[metadata['sample_labels'] == 'Donor_1'],\n",
    "                                    data.loc[metadata['sample_labels'] == 'Donor_2'],\n",
    "                                    measure='ttest')"
   ]
  },
  {
   "cell_type": "markdown",
   "metadata": {},
   "source": [
    "#### Print out the top 20 genes differentially expressed between samples"
   ]
  },
  {
   "cell_type": "code",
   "execution_count": null,
   "metadata": {},
   "outputs": [],
   "source": [
    "# ========\n",
    "# Select the first 20 or 50 rows of the results dataframe\n",
    "results.iloc[ ... ,:]\n",
    "# ========"
   ]
  },
  {
   "cell_type": "markdown",
   "metadata": {},
   "source": [
    "#### Plot the distribution of expression for each gene between samples\n",
    "This plot is rather complicated so we're just going to give you the code to generate it."
   ]
  },
  {
   "cell_type": "code",
   "execution_count": null,
   "metadata": {},
   "outputs": [],
   "source": [
    "# Create the figure and subplot axes\n",
    "fig, axes = plt.subplots(4,5, figsize=(2*5, 2*4))\n",
    "\n",
    "# Iterate over the axes\n",
    "for i, ax in enumerate(axes.flatten()):\n",
    "    # Get the i'th most differentially expressed gene\n",
    "    curr_gene = results.iloc[i].name\n",
    "    # Split the gene name to get the symbol\n",
    "    gene_symbol = curr_gene.split(' ')[0]\n",
    "    \n",
    "    # Get the raw expression for the current gene\n",
    "    exp = np.array(data[curr_gene])\n",
    "    \n",
    "    # Get expression per sample\n",
    "    exp_donor_1 = exp[metadata['sample_labels'] == 'Donor_1']\n",
    "    exp_donor_2 = exp[metadata['sample_labels'] == 'Donor_2']\n",
    "    \n",
    "    # Plot the histograms\n",
    "    scprep.plot.histogram(exp_donor_1, range=(exp.min(), exp.max()), bins=100, \n",
    "                          ax=ax, color='#9E0141', ylabel='')\n",
    "    scprep.plot.histogram(exp_donor_2, range=(exp.min(), exp.max()), bins=100, \n",
    "                          ax=ax, color='#5E4DA2', ylabel='', title=gene_symbol)\n",
    "\n",
    "# Fit subplots into figure neatly\n",
    "fig.tight_layout()"
   ]
  },
  {
   "cell_type": "markdown",
   "metadata": {},
   "source": [
    "### Discussion\n",
    "\n",
    "1. What do you notice about the kinds of genes that are the top 20 or 50 differentially expressed between samples?    \n",
    "\n",
    "2. Do you think these differences are biologically relevant? What sort of technical factors could influence the detection of these genes?"
   ]
  },
  {
   "cell_type": "markdown",
   "metadata": {},
   "source": [
    "## 4. Visualizing data"
   ]
  },
  {
   "cell_type": "markdown",
   "metadata": {},
   "source": [
    "Here, we're going to visualize our data with PHATE. If you'd like to use other visualization techniques such as UMAP or tSNE please go ahead!"
   ]
  },
  {
   "cell_type": "code",
   "execution_count": null,
   "metadata": {},
   "outputs": [],
   "source": [
    "data_phate = phate.PHATE().fit_transform(data)\n",
    "# alternative: umap.UMAP(), sklearn.manifold.TSNE()"
   ]
  },
  {
   "cell_type": "code",
   "execution_count": null,
   "metadata": {},
   "outputs": [],
   "source": [
    "scprep.plot.scatter2d(data_phate, c=metadata['sample_labels'], figsize=(12,8), cmap=\"Spectral\",\n",
    "                      ticks=False, label_prefix=\"PHATE\", s = 50)"
   ]
  },
  {
   "cell_type": "markdown",
   "metadata": {},
   "source": [
    "### Discussion\n",
    "\n",
    "1. What do you notice about this visualization? \n",
    "2. What do you think is driving this effect?"
   ]
  },
  {
   "cell_type": "markdown",
   "metadata": {},
   "source": [
    "## 5. Visualizing imputed gene expression on visualization"
   ]
  },
  {
   "cell_type": "markdown",
   "metadata": {},
   "source": [
    "To check our suspicions about this dataset, let's check some cell type specific markers."
   ]
  },
  {
   "cell_type": "code",
   "execution_count": null,
   "metadata": {},
   "outputs": [],
   "source": [
    "expression = scprep.select.select_cols(data_magic, exact_word='CD8A')\n",
    "\n",
    "scprep.plot.scatter2d(data_phate, c=expression, figsize=(12,8), cmap=\"Reds\",\n",
    "                      ticks=False, label_prefix=\"PHATE\", s = 50)"
   ]
  },
  {
   "cell_type": "markdown",
   "metadata": {},
   "source": [
    "### Exercise - plotting gene expression"
   ]
  },
  {
   "cell_type": "markdown",
   "metadata": {},
   "source": [
    "Visualize each of the following marker genes and describe what you find: CD4, CD8A, CD19, ITGAX, CD14. Try using both raw and imputed data."
   ]
  },
  {
   "cell_type": "code",
   "execution_count": null,
   "metadata": {},
   "outputs": [],
   "source": [
    "# ===========\n",
    "# Extract the gene expression for each of the genes listed from either `data` or `data_magic`\n",
    "expression = \n",
    "# ===========\n",
    "scprep.plot.scatter2d(data_phate, c=expression, figsize=(12,8), cmap=\"Reds\",\n",
    "                      ticks=False, label_prefix=\"PHATE\", s = 50)"
   ]
  },
  {
   "cell_type": "markdown",
   "metadata": {},
   "source": [
    "### Discussion\n",
    "\n",
    "1. What do you notice about the expression of each of these markers?\n",
    "2. What else might you check before deciding that the difference between the batches is a technical effect?"
   ]
  },
  {
   "cell_type": "markdown",
   "metadata": {},
   "source": [
    "## 6. Correcting differences between samples"
   ]
  },
  {
   "cell_type": "markdown",
   "metadata": {},
   "source": [
    "There are several algorithms that try to correct systemic sample level differences present in single cell datasets. Here, we will implement MNN correction to try and remove these differences. Herein, we will first create an AnnData object from our data before running it through MNN to get corrected data. We can then use this data to re-impute gene expression and re-visualize our data."
   ]
  },
  {
   "cell_type": "code",
   "execution_count": null,
   "metadata": {},
   "outputs": [],
   "source": [
    "import scanpy as sc\n",
    "\n",
    "pbmc_anndata = sc.AnnData(X=data, obs = metadata)"
   ]
  },
  {
   "cell_type": "code",
   "execution_count": null,
   "metadata": {},
   "outputs": [],
   "source": [
    "batches = [\"Donor_1\",\"Donor_2\"]\n",
    "alldata = {}\n",
    "\n",
    "for batch in batches:\n",
    "    alldata[batch] = pbmc_anndata[pbmc_anndata.obs['sample_labels']==batch,]\n"
   ]
  },
  {
   "cell_type": "code",
   "execution_count": null,
   "metadata": {},
   "outputs": [],
   "source": [
    "cdata = sc.external.pp.mnn_correct(alldata['Donor_1'], alldata['Donor_2'], svd_dim=50, \n",
    "                                  batch_key = 'sample_labels', batch_categories=[\"Donor_1\",\"Donor_2\"])"
   ]
  },
  {
   "cell_type": "markdown",
   "metadata": {},
   "source": [
    "## 7. Visualizing gene expression on corrected data"
   ]
  },
  {
   "cell_type": "markdown",
   "metadata": {},
   "source": [
    "Now that we have a batch corrected dataset, let's visualize imputed gene expression on the aligned manifold. Let us know what you think!"
   ]
  },
  {
   "cell_type": "code",
   "execution_count": null,
   "metadata": {
    "scrolled": true
   },
   "outputs": [],
   "source": [
    "cdata_magic = magic.MAGIC().fit_transform(cdata[0], genes=marker_genes)\n",
    "\n",
    "cdata_magic = pd.DataFrame(cdata_magic.X)\n",
    "cdata_magic.columns = marker_genes\n",
    "cdata_index = data.index"
   ]
  },
  {
   "cell_type": "code",
   "execution_count": null,
   "metadata": {},
   "outputs": [],
   "source": [
    "cdata_phate = phate.PHATE().fit_transform(cdata[0])"
   ]
  },
  {
   "cell_type": "code",
   "execution_count": null,
   "metadata": {},
   "outputs": [],
   "source": [
    "scprep.plot.scatter2d(cdata_phate, c=metadata['sample_labels'], figsize=(12,8), cmap=\"Spectral\",\n",
    "                      ticks=False, label_prefix=\"PHATE\", s = 50)"
   ]
  },
  {
   "cell_type": "code",
   "execution_count": null,
   "metadata": {},
   "outputs": [],
   "source": [
    "expression = scprep.select.select_cols(cdata_magic, exact_word='ITGAX') # Please enter each of the marker genes here\n",
    "\n",
    "scprep.plot.scatter2d(cdata_phate, c=expression, figsize=(12,8), cmap=\"Reds\",\n",
    "                      ticks=False, label_prefix=\"PHATE\", s = 50)"
   ]
  },
  {
   "cell_type": "markdown",
   "metadata": {},
   "source": [
    "### Exercise - plotting gene expression"
   ]
  },
  {
   "cell_type": "markdown",
   "metadata": {},
   "source": [
    "Visualize each of the following marker genes and describe what you find: CD4, CD8A, CD19, ITGAX, CD14. Try using both raw and imputed data."
   ]
  },
  {
   "cell_type": "code",
   "execution_count": null,
   "metadata": {},
   "outputs": [],
   "source": [
    "# ===========\n",
    "# Extract the gene expression for each of the genes listed from either `data` or `data_magic`\n",
    "expression = \n",
    "# ===========\n",
    "scprep.plot.scatter2d(data_phate, c=expression, figsize=(12,8), cmap=\"Reds\",\n",
    "                      ticks=False, label_prefix=\"PHATE\", s = 50)"
   ]
  },
  {
   "cell_type": "markdown",
   "metadata": {},
   "source": [
    "### Discussion\n",
    "\n",
    "1. What do you notice about the expression of each of these markers? How does it compare to the visualization before batch correction?\n",
    "2. When is it a good idea to apply batch correction to a dataset?\n",
    "3. Can you think of any risks of doing batch correction?"
   ]
  }
 ],
 "metadata": {
  "kernelspec": {
   "display_name": "Python 3",
   "language": "python",
   "name": "python3"
  },
  "language_info": {
   "codemirror_mode": {
    "name": "ipython",
    "version": 3
   },
   "file_extension": ".py",
   "mimetype": "text/x-python",
   "name": "python",
   "nbconvert_exporter": "python",
   "pygments_lexer": "ipython3",
   "version": "3.8.5"
  }
 },
 "nbformat": 4,
 "nbformat_minor": 2
}
