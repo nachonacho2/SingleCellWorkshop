{
 "cells": [
  {
   "cell_type": "markdown",
   "metadata": {
    "colab_type": "text",
    "id": "T9NB86RCVeHW"
   },
   "source": [
    "## Learning graphs from high dimensional data.\n",
    "\n",
    "### Goals\n",
    "\n",
    "* Introduction to graphtools\n",
    "* Visualizing graphs\n",
    "* Understanding parameters of learning graphs\n",
    "\n",
    "\n"
   ]
  },
  {
   "cell_type": "markdown",
   "metadata": {
    "colab_type": "text",
    "id": "WkOMOiaZVeHZ"
   },
   "source": [
    "## What is a graph?\n",
    "\n",
    "A graph, [in the mathematical sense](https://mathworld.wolfram.com/Graph.html), is a collection of nodes and edges. Sometimes nodes are called vertices, and sometimes graphs are called networks, but it's all the same thing. The mathematical notation for a graph is usually:\n",
    "\n",
    "$$ \\mathcal{G} = (\\mathcal{V},\\mathcal{E}) $$\n",
    "\n",
    "Which simple says that a graph $\\mathcal{G}$ comprises a set of vertices (or nodes) $\\mathcal{V}$ and edges (or connections) $\\mathcal{E}$ connecting nodes. In this workshop, we're only going to consider *undirected graphs*, which treats a connection between two nodes $\\mathcal{V}_{i}$ and $\\mathcal{V}_{j}$ as  linking the two nodes in both directions.\n",
    "\n",
    "Our lab has developed a toolkit for analyzing graphs called [`graphtools`](https://github.com/KrishnaswamyLab/graphtools), and some of the backend is provided by the excellent [`pygsp`](https://github.com/epfl-lts2/pygsp) toolkit. "
   ]
  },
  {
   "cell_type": "markdown",
   "metadata": {
    "colab_type": "text",
    "id": "iDOQR18gVeHg"
   },
   "source": [
    "## 1. Introduction to working with graphs in Python"
   ]
  },
  {
   "cell_type": "markdown",
   "metadata": {
    "colab_type": "text",
    "id": "l_BSEmINVeHk"
   },
   "source": [
    "### Packages\n",
    "\n",
    "There are a number of different packages designed for working with graphs in Python. We're going to focus on `pygsp` and `graphtools`. We picked these packages because they provide direct interfaces for some important matrices relevant for working with graphs. The other popular package for working with graphs is `NetworkX`, but it approaches graphs from a network science perspective rather than with a graph theoretic approach.\n",
    "\n",
    "* `pygsp` - a lightweight toolkit for analysis of signals on graphs\n",
    "* `graphtools` - a library from the Krishnaswamy lab for learning graphs from data. Built for compatibility for `pygsp`.\n",
    "\n",
    "#### Installing packages"
   ]
  },
  {
   "cell_type": "code",
   "execution_count": 0,
   "metadata": {
    "colab": {},
    "colab_type": "code",
    "id": "-BLO7KJuVeHo"
   },
   "outputs": [],
   "source": [
    "!pip install scprep graphtools"
   ]
  },
  {
   "cell_type": "markdown",
   "metadata": {
    "colab_type": "text",
    "id": "JzFbpEDKVeID"
   },
   "source": [
    "#### Loading packages"
   ]
  },
  {
   "cell_type": "code",
   "execution_count": 0,
   "metadata": {
    "colab": {},
    "colab_type": "code",
    "id": "gkBEoOlCVeII"
   },
   "outputs": [],
   "source": [
    "import numpy as np\n",
    "import pandas as pd\n",
    "\n",
    "import matplotlib.pyplot as plt\n",
    "\n",
    "import scprep as scprep\n",
    "import graphtools as gt\n",
    "\n",
    "from sklearn import datasets, preprocessing"
   ]
  },
  {
   "cell_type": "markdown",
   "metadata": {
    "colab_type": "text",
    "id": "APgqyGePVeIQ"
   },
   "source": [
    "### Generating data with simple geometry\n",
    "\n",
    "Here we're going to work with 6 datasets all in $\\mathbb{R}^2$ (i.e., 2D Euclidean space).\n",
    "\n",
    "1. **Circles** - two circles, one circumscribed by the other\n",
    "2. **Moons** - Two interleaving half circles\n",
    "3. **Varied variance blobs** - These blobs each have different variances\n",
    "4. **Anisotropically distributed blobs** - these blobs have unequal widths and lengths\n",
    "5. **Regular blobs** - Just three regular blobs\n",
    "6. **Uniformly sampled square** - Just a single square\n",
    "\n",
    "Because we're generating these from scratch, we get to change some parameters of their distributions. Generally, we can change:\n",
    "1. `noise` - the amount of Gaussian noise added to each point\n",
    "2. `n_samples` - the number of points generated\n",
    "3. `factor` / `cluster_std` - some parameters affecting shape"
   ]
  },
  {
   "cell_type": "code",
   "execution_count": 0,
   "metadata": {
    "colab": {},
    "colab_type": "code",
    "id": "_BwQTIPfVeIR"
   },
   "outputs": [],
   "source": [
    "np.random.seed(0)\n",
    "# ============\n",
    "# Generate datasets. We choose the size to be big enough to see the scalability\n",
    "# of the algorithms, but not too big to cause long running times\n",
    "# ============\n",
    "n_samples = 300\n",
    "\n",
    "# Circles\n",
    "noisy_circles = datasets.make_circles(n_samples=n_samples, \n",
    "                        # Scale factor between inner and outer circle\n",
    "                        factor=.5,\n",
    "                        # Gaussian noise added to each point\n",
    "                        noise=.05)\n",
    "\n",
    "# Moons\n",
    "noisy_moons = datasets.make_moons(n_samples=n_samples, \n",
    "                                  noise=.05)\n",
    "\n",
    "# Blobs\n",
    "blobs = datasets.make_blobs(n_samples=n_samples, random_state=8)\n",
    "\n",
    "# Uniform square\n",
    "no_structure = np.random.rand(n_samples, 2), None\n",
    "\n",
    "# \"Blobs_skew\" \n",
    "# Anisotropically distributed data (i.e. data with unequal length and width)\n",
    "random_state = 170\n",
    "X, y = datasets.make_blobs(n_samples=n_samples, random_state=random_state)\n",
    "# Changes how x1, x2 coordinates are shifted\n",
    "transformation = [[0.6, -0.6], [-0.4, 0.8]]\n",
    "X_aniso = np.dot(X, transformation)\n",
    "aniso = (X_aniso, y)\n",
    "\n",
    "# blobs with varied variances\n",
    "varied = datasets.make_blobs(n_samples=n_samples,\n",
    "                             cluster_std=[1.0, 2.5, 0.5],\n",
    "                             random_state=random_state)\n",
    "\n",
    "\n",
    "generated_datasets = {'circles':noisy_circles,\n",
    "     'moons':noisy_moons,\n",
    "     'blobs_variance':varied,\n",
    "     'blobs_skew':aniso,\n",
    "     'blobs_regular':blobs,\n",
    "     'uniform':no_structure}"
   ]
  },
  {
   "cell_type": "markdown",
   "metadata": {
    "colab_type": "text",
    "id": "3bK5w7MAVeIe"
   },
   "source": [
    "#### Plot each dataset"
   ]
  },
  {
   "cell_type": "code",
   "execution_count": 0,
   "metadata": {
    "colab": {},
    "colab_type": "code",
    "id": "FInaJ9QdVeIh"
   },
   "outputs": [],
   "source": [
    "fig, axes = plt.subplots(1,6,figsize=(12,2))\n",
    "\n",
    "for i, dataset_name in enumerate(generated_datasets):\n",
    "    ax = axes[i]\n",
    "    data, group = generated_datasets[dataset_name]\n",
    "    \n",
    "    # normalize dataset for easier parameter selection\n",
    "    data = preprocessing.StandardScaler().fit_transform(data)\n",
    "    scprep.plot.scatter2d(data, c=group, \n",
    "                          ticks=None, ax=ax, \n",
    "                          xlabel='x0', ylabel='x1',\n",
    "                          title=dataset_name,\n",
    "                         legend=False)\n",
    "    \n",
    "fig.tight_layout()"
   ]
  },
  {
   "cell_type": "markdown",
   "metadata": {
    "colab_type": "text",
    "id": "zCS92gPRVeIp"
   },
   "source": [
    "### Learning a graph from data\n",
    "\n",
    "Let's pick the `blobs_regular` dataset and learn a graph from the data coordinates."
   ]
  },
  {
   "cell_type": "code",
   "execution_count": 0,
   "metadata": {
    "colab": {},
    "colab_type": "code",
    "id": "LMhY2pFhVeIq"
   },
   "outputs": [],
   "source": [
    "dataset_name = 'blobs_regular'\n",
    "data, group = generated_datasets[dataset_name]"
   ]
  },
  {
   "cell_type": "code",
   "execution_count": 0,
   "metadata": {
    "colab": {},
    "colab_type": "code",
    "id": "JapMpbUFVeI2"
   },
   "outputs": [],
   "source": [
    "ax = scprep.plot.scatter2d(data, c=group, \n",
    "                           xlabel='x0', ylabel='x1',\n",
    "                           title=dataset_name,\n",
    "                           legend=False)\n",
    "\n",
    "# change the shape of the axes to avoid distortion\n",
    "ax.set_aspect(1)"
   ]
  },
  {
   "cell_type": "markdown",
   "metadata": {
    "colab_type": "text",
    "id": "CEoQJDNmVeJH"
   },
   "source": [
    "#### Using `gt.Graph` to fit a graph to the data\n",
    "\n",
    "Here we're plotting all of the edge weights in the graph. Black lines between points denote affinities close to 1; fainter lines represent values closer to 0. (Affinity is a measure of similarity between points. The higher the affinity is, the more similar the points are. Two points that are the same will have affinity equal to 1.) Drawing every line is slow, so we're only dealing with a few points."
   ]
  },
  {
   "cell_type": "code",
   "execution_count": 0,
   "metadata": {
    "colab": {},
    "colab_type": "code",
    "id": "hnJczZr2VeJI"
   },
   "outputs": [],
   "source": [
    "G = gt.Graph(data, knn=5)\n",
    "\n",
    "# This code draws the nodes of the graph\n",
    "ax = scprep.plot.scatter2d(data, c=group, \n",
    "                           xlabel='x0', ylabel='x1',\n",
    "                           title=dataset_name, figsize=(8,6),\n",
    "                           legend=False)\n",
    "\n",
    "# This block of code draws lines between each point and its neighbors\n",
    "for i in range(data.shape[0]-1):\n",
    "    for j in range(i+1, data.shape[0]):\n",
    "        affinity = G.kernel[i,j]\n",
    "        if affinity > 0:\n",
    "            ax.plot(data[[i,j],0], data[[i,j],1],\n",
    "                    color='black', alpha=affinity, zorder=0)\n",
    "    \n",
    "ax.set_aspect(1)\n",
    "plt.tight_layout()"
   ]
  },
  {
   "cell_type": "markdown",
   "metadata": {
    "colab_type": "text",
    "id": "dRxsQcdrVeJN"
   },
   "source": [
    "### See how changing graph parameters affects connectivity"
   ]
  },
  {
   "cell_type": "code",
   "execution_count": 0,
   "metadata": {
    "colab": {},
    "colab_type": "code",
    "id": "k2L5E_mvVeJT"
   },
   "outputs": [],
   "source": [
    "G = gt.Graph(data, knn=10)\n",
    "\n",
    "# This code draws the nodes of the graph\n",
    "ax = scprep.plot.scatter2d(data, c=group, \n",
    "                      xlabel='x0', ylabel='x1',\n",
    "                      title=dataset_name, figsize=(8,6),\n",
    "                      legend=False)\n",
    "\n",
    "# This block of code draws lines between each point and its neighbors\n",
    "for i in range(data.shape[0]-1):\n",
    "    for j in range(i+1, data.shape[0]):\n",
    "        affinity = G.kernel[i,j]\n",
    "        if affinity > 0:\n",
    "            ax.plot(data[[i,j],0], data[[i,j],1],\n",
    "                    color='black', alpha=affinity, zorder=0)\n",
    "    \n",
    "ax.set_aspect(1)\n",
    "plt.tight_layout()"
   ]
  },
  {
   "cell_type": "markdown",
   "metadata": {
    "colab_type": "text",
    "id": "04Q3Nr2iVeJc"
   },
   "source": [
    "### Exercise - graph parameter tuning\n",
    "\n",
    "In this exercise, we are going to practice learning a graph from synthetic data and see how changing parameters about the data and the graph parameters change the results of the graph.\n",
    "\n",
    "Each individual per group should:\n",
    "1. Pick a dataset (each person should select a different one and not the `blobs_regular`)\n",
    "2. Copy the code into the following cell\n",
    "3. Change the parameters for learning the graph (`knn`)\n",
    "4. Plot the data and determine if the graph looks good (i.e. groups are not connected)\n",
    "5. Duplicate the code block\n",
    "6. Change the data generation parameters(`n_samples` and `noise`)\n",
    "7. Change the graph parameters until you are satisfied with the new graph\n",
    "\n",
    "Consult the following link for more information about dataset parameters: https://scikit-learn.org/0.16/datasets/index.html#sample-generators\n",
    "\n",
    "**Note: if you create a graph with too many connections, drawing all the edges will be very slow!**"
   ]
  },
  {
   "cell_type": "code",
   "execution_count": 0,
   "metadata": {
    "colab": {},
    "colab_type": "code",
    "id": "MXYVYTWSVeJc"
   },
   "outputs": [],
   "source": [
    "# =======\n",
    "# Copy + paste the code for generating your chosen dataset below here\n",
    "\n",
    "\n",
    "\n",
    "\n",
    "\n",
    "#========\n",
    "\n",
    "G = gt.Graph(data, knn=10)\n",
    "\n",
    "\n",
    "# ======\n",
    "# Plotting the graph\n",
    "# ======\n",
    "\n",
    "# This code draws the nodes of the graph\n",
    "ax = scprep.plot.scatter2d(data, c=group, \n",
    "                      xlabel='x0', ylabel='x1',\n",
    "                      title=dataset_name, figsize=(8,6),\n",
    "                      legend=False)\n",
    "\n",
    "# This block of code draws lines between each point and its neighbors\n",
    "for i in range(data.shape[0]-1):\n",
    "    for j in range(i+1, data.shape[0]):\n",
    "        affinity = G.kernel[i,j]\n",
    "        if affinity > 0:\n",
    "            ax.plot(data[[i,j],0], data[[i,j],1],\n",
    "                    color='black', alpha=affinity, zorder=0)\n",
    "    \n",
    "ax.set_aspect(1)\n",
    "plt.tight_layout()"
   ]
  },
  {
   "cell_type": "markdown",
   "metadata": {},
   "source": [
    "### Discussion\n",
    "1. If you add noise, how does that affect your choice of `knn`?\n",
    "2. If you add points, how does that affect your choice of `knn`?\n",
    "3. Which dataset in your group was the easiest learn a graph from?"
   ]
  }
 ],
 "metadata": {
  "kernelspec": {
   "display_name": "Python 3",
   "language": "python",
   "name": "python3"
  },
  "language_info": {
   "codemirror_mode": {
    "name": "ipython",
    "version": 3
   },
   "file_extension": ".py",
   "mimetype": "text/x-python",
   "name": "python",
   "nbconvert_exporter": "python",
   "pygments_lexer": "ipython3",
   "version": "3.8.5"
  }
 },
 "nbformat": 4,
 "nbformat_minor": 1
}
