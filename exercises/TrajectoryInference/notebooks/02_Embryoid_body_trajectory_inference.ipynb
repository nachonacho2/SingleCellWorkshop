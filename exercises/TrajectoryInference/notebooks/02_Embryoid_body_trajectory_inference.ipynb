{
 "cells": [
  {
   "cell_type": "code",
   "execution_count": null,
   "metadata": {
    "colab": {},
    "colab_type": "code",
    "id": "XnwwHe9N-lx3"
   },
   "outputs": [],
   "source": [
    "!pip install scprep phate magic-impute anndata scanpy"
   ]
  },
  {
   "cell_type": "markdown",
   "metadata": {
    "colab_type": "text",
    "id": "mhx2Ej3H-ly8"
   },
   "source": [
    "### Imports"
   ]
  },
  {
   "cell_type": "code",
   "execution_count": null,
   "metadata": {
    "colab": {},
    "colab_type": "code",
    "id": "JTSe8537-lzb"
   },
   "outputs": [],
   "source": [
    "import scprep"
   ]
  },
  {
   "cell_type": "code",
   "execution_count": null,
   "metadata": {
    "colab": {},
    "colab_type": "code",
    "id": "xx-n_r90-l0E"
   },
   "outputs": [],
   "source": [
    "scprep.io.download.download_google_drive(\"10FpYcwqXBrG_K0p5Cq936lmH6F9sO70x\", 'r_packages.tar.gz')\n",
    "!tar xzf r_packages.tar.gz  -C /usr/local/lib/R/site-library/ && rm r_packages.tar.gz\n",
    "!apt-get install -yqq libgsl-dev=2.4+dfsg-6\n",
    "!pip install --upgrade rpy2\n",
    "!R -e \"BiocManager::install('slingshot')\""
   ]
  },
  {
   "cell_type": "code",
   "execution_count": null,
   "metadata": {
    "colab": {},
    "colab_type": "code",
    "id": "U0bBWj-B-l0R"
   },
   "outputs": [],
   "source": [
    "import pandas as pd\n",
    "import numpy as np\n",
    "import phate\n",
    "import magic\n",
    "import tasklogger\n",
    "\n",
    "import matplotlib.pyplot as plt\n",
    "\n",
    "import os\n",
    "\n",
    "# matplotlib settings for Jupyter notebooks only\n",
    "%matplotlib inline"
   ]
  },
  {
   "cell_type": "markdown",
   "metadata": {
    "colab_type": "text",
    "id": "Z4myLKqk-l0r"
   },
   "source": [
    "# Running Slingshot and Diffusion Pseudotime on EB data\n",
    "\n",
    "In the last exercise, we ran both pseudotime methods on a relatively small dataset of fewer than 400 cells. Here, we're going to run both algorithms on a more complex dataset of human embryonic stem cells (hESCs) grown as Embryoid Bodies (EBs).\n",
    "\n",
    "However, 16,000 cells is still a large dataset for slingshot. To save time, we're going to subsample the data to 6,000 cells."
   ]
  },
  {
   "cell_type": "markdown",
   "metadata": {
    "colab_type": "text",
    "id": "MziJWx8f-l0y"
   },
   "source": [
    "## 1. Load EB Data (and download if needed)\n",
    "\n"
   ]
  },
  {
   "cell_type": "code",
   "execution_count": null,
   "metadata": {
    "colab": {},
    "colab_type": "code",
    "id": "2W3c_v2I-l00"
   },
   "outputs": [],
   "source": [
    "download_dir = os.path.expanduser('~')\n",
    "file_path = os.path.join(download_dir, 'EBT_counts.pkl.gz')\n",
    "if not os.path.exists(file_path):\n",
    "    scprep.io.download.download_google_drive(id='1Xz0ONnRWp2MLC_R6r74MzNwaZ4DkQPcM',\n",
    "                                             destination=file_path)\n",
    "data = scprep.utils.SparseDataFrame(pd.read_pickle(file_path))"
   ]
  },
  {
   "cell_type": "markdown",
   "metadata": {
    "colab_type": "text",
    "id": "HVEt7Vj8-l0_"
   },
   "source": [
    "#### Subsample the data"
   ]
  },
  {
   "cell_type": "code",
   "execution_count": null,
   "metadata": {
    "colab": {},
    "colab_type": "code",
    "id": "kHVQMaOw-l1C"
   },
   "outputs": [],
   "source": [
    "np.random.seed(42)\n",
    "data = scprep.select.subsample(data, n=6000)"
   ]
  },
  {
   "cell_type": "code",
   "execution_count": null,
   "metadata": {
    "colab": {},
    "colab_type": "code",
    "id": "94AckK7s-l1W"
   },
   "outputs": [],
   "source": [
    "data.head()"
   ]
  },
  {
   "cell_type": "markdown",
   "metadata": {
    "colab_type": "text",
    "id": "x5VboHfa-l1j"
   },
   "source": [
    "#### Parse the index names to grab the sample information"
   ]
  },
  {
   "cell_type": "code",
   "execution_count": null,
   "metadata": {
    "colab": {},
    "colab_type": "code",
    "id": "qxWDLgpM-l1w"
   },
   "outputs": [],
   "source": [
    "sample = [ix.split('_')[1] for ix in data.index]\n",
    "metadata= pd.DataFrame(sample, index=data.index, columns=['sample'])\n",
    "metadata.head()"
   ]
  },
  {
   "cell_type": "markdown",
   "metadata": {
    "colab_type": "text",
    "id": "kl4lwKIx-l2L"
   },
   "source": [
    "### Running PHATE\n",
    "\n"
   ]
  },
  {
   "cell_type": "code",
   "execution_count": null,
   "metadata": {
    "colab": {},
    "colab_type": "code",
    "id": "0EXMJloi-l2R"
   },
   "outputs": [],
   "source": [
    "phate_op = phate.PHATE()\n",
    "\n",
    "data_phate = phate_op.fit_transform(data)\n",
    "data_phate = pd.DataFrame(data_phate, index=data.index)\n",
    "\n",
    "clusters = phate.cluster.kmeans(phate_op, n_clusters=12)\n",
    "metadata['clusters_for_slingshot'] = scprep.utils.sort_clusters_by_values(clusters, -data_phate.iloc[:,0])"
   ]
  },
  {
   "cell_type": "code",
   "execution_count": null,
   "metadata": {
    "colab": {},
    "colab_type": "code",
    "id": "k2uTbwYh-l2h"
   },
   "outputs": [],
   "source": [
    "scprep.plot.scatter2d(data_phate, c=metadata['clusters_for_slingshot'], legend_anchor=(1,1))"
   ]
  },
  {
   "cell_type": "markdown",
   "metadata": {
    "colab_type": "text",
    "id": "c40s_pgV-l2w"
   },
   "source": [
    "## 2. Running trajectory inference methods"
   ]
  },
  {
   "cell_type": "markdown",
   "metadata": {
    "colab_type": "text",
    "id": "-Q42UtKz-l23"
   },
   "source": [
    "### Running Slingshot\n",
    "\n",
    "Here we'll use default parameters for Slingshot, but set the start cluster."
   ]
  },
  {
   "cell_type": "code",
   "execution_count": null,
   "metadata": {
    "colab": {},
    "colab_type": "code",
    "id": "ziL7GPOH-l2-"
   },
   "outputs": [],
   "source": [
    "# =======\n",
    "# What is the the command to run Slingshot using `scprep`?\n",
    "# Make sure to set the `start_cluster`\n",
    "with tasklogger.log_task(\"Slingshot\"):\n",
    "    results = scprep.run.Slingshot(data_phate, metadata['clusters_for_slingshot'], start_cluster = )\n",
    "# ======="
   ]
  },
  {
   "cell_type": "code",
   "execution_count": null,
   "metadata": {
    "colab": {},
    "colab_type": "code",
    "id": "SCiJLImo-l3I"
   },
   "outputs": [],
   "source": [
    "ax = scprep.plot.scatter2d(data_phate, c = metadata['clusters_for_slingshot'], legend=False\n",
    "                           ticks=False, label_prefix=\"PHATE\")\n",
    "\n",
    "for curve in results['curves']:\n",
    "    ax.plot(curve[:,0], curve[:,1], c='k')"
   ]
  },
  {
   "cell_type": "markdown",
   "metadata": {
    "colab_type": "text",
    "id": "OqpYKBha-l3O"
   },
   "source": [
    "### Running Diffusion Pseudotime\n",
    "\n",
    "Here, we're going to use the diffusion pseudotime implementation from the original authors as provided in `scanpy`. This is faster than the implementation we derived in the previous exercise, but the results are comparable.\n",
    "\n",
    "You will need to select the root cell using one of the methods previously described and select the number of branching events you think DPT should identify"
   ]
  },
  {
   "cell_type": "code",
   "execution_count": null,
   "metadata": {
    "colab": {},
    "colab_type": "code",
    "id": "A4iBvbcC-l3U"
   },
   "outputs": [],
   "source": [
    "import anndata, scanpy\n",
    "\n",
    "# Create AnnData object\n",
    "adata = anndata.AnnData(data)\n",
    "\n",
    "# ========\n",
    "# Select the root\n",
    "adata.uns['iroot'] = ???\n",
    "# ========\n",
    "\n",
    "with tasklogger.log_task(\"Diffusion Pseudotime\"):\n",
    "    # Run PCA\n",
    "    scanpy.pp.pca(adata)\n",
    "\n",
    "    # Identify nearest neighbors\n",
    "    scanpy.pp.neighbors(adata)\n",
    "\n",
    "    # Create the diffusion map\n",
    "    scanpy.tl.diffmap(adata)\n",
    "\n",
    "    # =======\n",
    "    # Run Diffusion Pseudotime, select a number of branchings to detect\n",
    "    scanpy.tl.dpt(adata, n_branchings=???)\n",
    "    # =======\n",
    "\n",
    "metadata['dpt'] = adata.obs['dpt_pseudotime']\n",
    "metadata['dpt_branch'] = adata.obs['dpt_groups'].astype(int)\n",
    "metadata.head()"
   ]
  },
  {
   "cell_type": "markdown",
   "metadata": {
    "colab_type": "text",
    "id": "fE9Gq5P6-l3Z"
   },
   "source": [
    "### Plotting diffusion pseudotime\n",
    "\n",
    "In two plots, visualize both the `dpt_branch` and `dpt` metadata values."
   ]
  },
  {
   "cell_type": "code",
   "execution_count": null,
   "metadata": {
    "colab": {},
    "colab_type": "code",
    "id": "lZMYCG3i-l3j"
   },
   "outputs": [],
   "source": [
    "# =======\n",
    "# Write code to plot the `dpt_branch` output\n",
    "\n",
    "\n",
    "# =======\n",
    "\n"
   ]
  },
  {
   "cell_type": "code",
   "execution_count": null,
   "metadata": {
    "colab": {},
    "colab_type": "code",
    "id": "J1puWYEE-l3t"
   },
   "outputs": [],
   "source": [
    "# =======\n",
    "# Write code to plot the `dpt` output\n",
    "\n",
    "\n",
    "\n",
    "# =======\n",
    "\n"
   ]
  },
  {
   "cell_type": "markdown",
   "metadata": {
    "colab_type": "text",
    "id": "VWIWQTbn-l30"
   },
   "source": [
    "### Discussion\n",
    "\n",
    "With your groups:\n",
    "\n",
    "1. Rerun DPT, but with a different number of branchings\n",
    "2. How many branchings do produces a \"good\" set of trajectories?\n",
    "3. How does this compare to the number of branchings observed in Slingshot?\n",
    "4. Try setting `end_cluster` in Slingshot, how does this affect the output?"
   ]
  },
  {
   "cell_type": "markdown",
   "metadata": {
    "colab_type": "text",
    "id": "XUHM_voj-l33"
   },
   "source": [
    "## Comparing the resolution of DPT and Slingshot\n",
    "\n",
    "Here, we're going to dive deeper into how well DPT and Slingshot resolve later developmental transitions."
   ]
  },
  {
   "cell_type": "markdown",
   "metadata": {
    "colab_type": "text",
    "id": "VO45QLka-l34"
   },
   "source": [
    "#### Rename the slingshot branches to be neater and concatenate them to `metadata`"
   ]
  },
  {
   "cell_type": "code",
   "execution_count": null,
   "metadata": {
    "colab": {},
    "colab_type": "code",
    "id": "1-kRTDYM-l35"
   },
   "outputs": [],
   "source": [
    "results['pseudotime'].columns = ['slingshot{}'.format(i+1) for i in range(results['pseudotime'].shape[1])]"
   ]
  },
  {
   "cell_type": "code",
   "execution_count": null,
   "metadata": {
    "colab": {},
    "colab_type": "code",
    "id": "qTZQQLEX-l4L"
   },
   "outputs": [],
   "source": [
    "metadata = pd.concat((metadata, results['pseudotime']), axis=1)\n",
    "metadata.head()"
   ]
  },
  {
   "cell_type": "markdown",
   "metadata": {
    "colab_type": "text",
    "id": "DQBbR4NV-l4T"
   },
   "source": [
    "#### Plotting Slingshot pseudotime vs DPT\n",
    "\n",
    "Try this with each of the Slingshot branches."
   ]
  },
  {
   "cell_type": "code",
   "execution_count": null,
   "metadata": {
    "colab": {},
    "colab_type": "code",
    "id": "z1aRd1pe-l4U"
   },
   "outputs": [],
   "source": [
    "# ========\n",
    "# Get all the cells that are on the desired branch.\n",
    "curr_branch = ???\n",
    "# ========\n",
    "\n",
    "# create a mask to hide all the cells not on this branch\n",
    "mask = np.isfinite(metadata[curr_branch])\n",
    "\n",
    "# Create a scatter plot with slingshot's `curr_branch` on the x-axis\n",
    "# Because we only want to plot the cells that are not null,\n",
    "# we can pass the mask created above to the `mask` arguement of\n",
    "# `scprep.plot.scatter()`\n",
    "scprep.plot.scatter(metadata[curr_branch], metadata['dpt'],\n",
    "                    c=metadata['clusters_for_slingshot'],\n",
    "                    mask=mask,\n",
    "                    title='Slingshot vs. DPT - {}'.format(curr_branch),\n",
    "                    legend_anchor=(1,1))"
   ]
  },
  {
   "cell_type": "markdown",
   "metadata": {
    "colab_type": "text",
    "id": "a6TV2bZ_-l4m"
   },
   "source": [
    "#### Plot pseudotime values per cluster"
   ]
  },
  {
   "cell_type": "code",
   "execution_count": null,
   "metadata": {
    "colab": {},
    "colab_type": "code",
    "id": "Chh1X0N8-l4n"
   },
   "outputs": [],
   "source": [
    "# Get all the cells that are on the desired branch.\n",
    "branch_number = '1'\n",
    "curr_branch = 'slingshot{}'.format(branch_number)\n",
    "\n",
    "mask = np.isfinite(metadata[curr_branch])\n",
    "\n",
    "fig, axes = plt.subplots(1,2, figsize=(12,5))\n",
    "\n",
    "scprep.plot.jitter(metadata['clusters_for_slingshot'], metadata[curr_branch],\n",
    "                   c=metadata['clusters_for_slingshot'], mask=mask,\n",
    "                   title='Slingshot - Branch {}'.format(branch_number),\n",
    "                   legend_anchor=(1,1), ax=axes[0])\n",
    "\n",
    "scprep.plot.jitter(metadata['clusters_for_slingshot'], metadata['dpt'],\n",
    "                   c=metadata['clusters_for_slingshot'], mask=mask,\n",
    "                   title='DPT - Branch {}'.format(branch_number),\n",
    "                   legend_anchor=(1,1), ax=axes[1])\n",
    "\n",
    "fig.tight_layout()"
   ]
  },
  {
   "cell_type": "markdown",
   "metadata": {
    "colab_type": "text",
    "id": "MiQfKJEn-l4t"
   },
   "source": [
    "### Discussion\n",
    "\n",
    "In your groups, answer the following questions:\n",
    "\n",
    "1. Which method does better at finely resolving long-distance pseudotime relationships?\n",
    "2. Is this different for different branches?\n",
    "3. Based on what you know about each method, why do you think this is?"
   ]
  },
  {
   "cell_type": "markdown",
   "metadata": {
    "colab_type": "text",
    "id": "VP8gFV_f-l4u"
   },
   "source": [
    "## Bonus\n",
    "\n",
    "If you have extra time, go back to the top of this notebook and change the number of clusters passed to Slingshot. How does this change the output?"
   ]
  }
 ],
 "metadata": {
  "colab": {
   "name": "02_Embryoid_body_trajectory_inference.ipynb",
   "provenance": []
  },
  "kernelspec": {
   "display_name": "Python 3",
   "language": "python",
   "name": "python3"
  },
  "language_info": {
   "codemirror_mode": {
    "name": "ipython",
    "version": 3
   },
   "file_extension": ".py",
   "mimetype": "text/x-python",
   "name": "python",
   "nbconvert_exporter": "python",
   "pygments_lexer": "ipython3",
   "version": "3.8.5"
  }
 },
 "nbformat": 4,
 "nbformat_minor": 1
}
