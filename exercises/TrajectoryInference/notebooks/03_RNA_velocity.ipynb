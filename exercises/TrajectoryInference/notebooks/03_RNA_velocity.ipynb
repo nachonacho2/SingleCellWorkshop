{
 "cells": [
  {
   "cell_type": "code",
   "execution_count": null,
   "metadata": {
    "colab": {
     "base_uri": "https://localhost:8080/",
     "height": 558
    },
    "colab_type": "code",
    "id": "0_FAWWtgJwfr",
    "outputId": "5ff009df-b7ad-48cf-e7d1-42a32659fae9"
   },
   "outputs": [],
   "source": [
    "!pip install loompy scprep phate magic-impute velocyto"
   ]
  },
  {
   "cell_type": "markdown",
   "metadata": {},
   "source": [
    "#### Install R packages"
   ]
  },
  {
   "cell_type": "code",
   "execution_count": null,
   "metadata": {},
   "outputs": [],
   "source": [
    "import scprep"
   ]
  },
  {
   "cell_type": "code",
   "execution_count": null,
   "metadata": {
    "colab": {
     "base_uri": "https://localhost:8080/",
     "height": 749
    },
    "colab_type": "code",
    "id": "y8lIzs8SZCyB",
    "outputId": "f7b872c5-c857-4014-e0b9-983b2c7316cc"
   },
   "outputs": [],
   "source": [
    "scprep.io.download.download_google_drive(\"10FpYcwqXBrG_K0p5Cq936lmH6F9sO70x\", 'r_packages.tar.gz')\n",
    "!tar xzf r_packages.tar.gz  -C /usr/local/lib/R/site-library/ && rm r_packages.tar.gz\n",
    "!apt-get install -yqq libgsl-dev=2.4+dfsg-6\n",
    "!pip install --upgrade rpy2\n",
    "!R -e \"BiocManager::install('slingshot')\""
   ]
  },
  {
   "cell_type": "code",
   "execution_count": null,
   "metadata": {
    "colab": {},
    "colab_type": "code",
    "id": "33EB8AFiJwjF"
   },
   "outputs": [],
   "source": [
    "import numpy as np\n",
    "import pandas as pd\n",
    "import matplotlib.pyplot as plt\n",
    "\n",
    "import os\n",
    "import tarfile\n",
    "\n",
    "import velocyto\n",
    "import phate"
   ]
  },
  {
   "cell_type": "markdown",
   "metadata": {
    "colab_type": "text",
    "id": "8lTHqyivJwkm"
   },
   "source": [
    "# Running RNA-velocity on the EB dataset\n",
    "\n",
    "Calculating RNA velocity involves two main steps:\n",
    "1. Generate loom files with information about spliced and unspliced genes\n",
    "2. Estimating the rate of transcription for each gene\n",
    "3. Predicting future cell state given the spliced/unspliced ratio of genes in each cell\n",
    "\n",
    "We already performed the first step because this takes a long time and a lot of computational resources. If you want to learn how to generate loom files, please consult the RNA velocity tutorials (http://velocyto.org/velocyto.py/tutorial/index.html). The syntax is fairly straightforward.\n",
    "\n",
    "In this exercise, we will perform steps 2 and 3 to estimate the transcriptional velocity for each cell."
   ]
  },
  {
   "cell_type": "markdown",
   "metadata": {
    "colab_type": "text",
    "id": "n-32s0FyJwkr"
   },
   "source": [
    "## 1. Downloading and loading the loom files\n",
    "\n",
    "Running estimating RNA velocity requires a special `VelocytoLoom` object. Here we create this object using the loom file generated from the fastq files.\n",
    "\n",
    "### Downloading the `loom` files\n"
   ]
  },
  {
   "cell_type": "code",
   "execution_count": null,
   "metadata": {
    "colab": {},
    "colab_type": "code",
    "id": "g_Vk5-w3Jwkt"
   },
   "outputs": [],
   "source": [
    "download_dir = os.path.expanduser('~')\n",
    "download_path = os.path.join(download_dir, '2017_Krishnaswamy_EB_velocity.tar.gz')\n",
    "\n",
    "# Download the data tarball\n",
    "if not os.path.exists(download_path):\n",
    "    scprep.io.download.download_google_drive('1FDDSWtSZcdQUVKpk-mPCZ8Ji1Fx8KSz9', download_path)\n",
    "\n",
    "# Extract data directory\n",
    "with tarfile.open(download_path) as tf:\n",
    "    tf.extractall(download_dir)\n",
    "\n",
    "# Format the data paths\n",
    "data_dir = os.path.join(download_dir, '2017_Krishnaswamy_EB_velocity')"
   ]
  },
  {
   "cell_type": "markdown",
   "metadata": {
    "colab_type": "text",
    "id": "Ob9xGfQKJwk8"
   },
   "source": [
    "### Loading the loom files\n",
    "\n",
    "Designed for large omics datasets, loom files are essentially specially formatted HDF5 tables that store data and metadata in a single container. You can read more about loom files here: http://loompy.org/.\n",
    "\n",
    "We will load the `loom` files with `velocyto`, the RNA velocity toolkit."
   ]
  },
  {
   "cell_type": "code",
   "execution_count": null,
   "metadata": {
    "colab": {},
    "colab_type": "code",
    "id": "uUkPeGclJwlA"
   },
   "outputs": [],
   "source": [
    "# Load the data\n",
    "data_loom = velocyto.VelocytoLoom(os.path.join(data_dir, 'EBT_velocity.loom'))\n",
    "\n",
    "# Keep only cells that passed QC as determined in Moon et al. (2019)\n",
    "keep_cells = np.load(os.path.join(data_dir,'EBT_filtered_cells.npy'))\n",
    "\n",
    "# Subsample to keep colab from crashing\n",
    "keep_cells = scprep.select.subsample(keep_cells, n=6000)\n",
    "\n",
    "# We ran PHATE earlier to save time\n",
    "data_phate = pd.read_pickle(os.path.join(data_dir,'EBT_phate_coordinates.pkl'))"
   ]
  },
  {
   "cell_type": "markdown",
   "metadata": {
    "colab_type": "text",
    "id": "QR_rtqUGJwlY"
   },
   "source": [
    "#### Processing the loom file\n",
    "\n",
    "Velocyto has a lot of complicated plotting functions that require attributes be stored in specific slots in order to create the plots showcased in the paper. Because of this, the following code block is a little opaque. As a reminder, all of this code was generated following the Velocyto tutorials, and  you should probably follow their tutorials if you want to run RNA velocity on your data."
   ]
  },
  {
   "cell_type": "code",
   "execution_count": null,
   "metadata": {
    "colab": {},
    "colab_type": "code",
    "id": "iHzlsmFNJwmB"
   },
   "outputs": [],
   "source": [
    "# Get the list of kept barcodes from saved numpy, then filter loom object by them\n",
    "to_keep = np.isin(data_loom.ca['CellID'], keep_cells)\n",
    "data_loom.filter_cells(to_keep)\n",
    "\n",
    "# Coerce the data into a nice format\n",
    "data_phate = data_phate[data_loom.ca['CellID']].T\n",
    "\n",
    "# Storing sample labels in the column attributes \n",
    "samples = ['EBT0_1A', 'EBT2_3B', 'EBT4_5C', 'EBT6_7D', 'EBT8_9E']\n",
    "data_loom.ca['Sample'] = np.array([s.split(':')[0] for s in data_loom.ca['CellID']])\n",
    "sample_index_map = dict(zip(np.unique(data_loom.ca['Sample']), range(5)))\n",
    "data_loom.ca['Sample_idx'] = np.array([sample_index_map[s] for s in data_loom.ca['Sample']])\n",
    "\n",
    "# Adding nicely formatted cluster labels\n",
    "nice_samples = [\"Day 00-03\", \"Day 06-09\", \"Day 12-15\", \"Day 18-21\", \"Day 24-27\"]\n",
    "sample_nice_map = dict(zip(samples, nice_samples))\n",
    "data_loom.ca['Sample_nice'] = np.array([sample_nice_map[s] for s in data_loom.ca['Sample']])\n",
    "data_loom.cluster_labels = data_loom.ca['Sample_nice']\n",
    "\n",
    "# Adding PHATE coordinates to the loom object\n",
    "data_loom.ts = data_phate.to_numpy()\n",
    "colors_dict = dict(zip(samples, plt.cm.Spectral(np.linspace(0,1,5))))\n",
    "data_loom.colorandum = np.array([colors_dict[s] for s in data_loom.ca['Sample']])"
   ]
  },
  {
   "cell_type": "markdown",
   "metadata": {
    "colab_type": "text",
    "id": "uB4MLn46Jwmr"
   },
   "source": [
    "#### Plotting PHATE coordinates"
   ]
  },
  {
   "cell_type": "code",
   "execution_count": null,
   "metadata": {
    "colab": {
     "base_uri": "https://localhost:8080/",
     "height": 585
    },
    "colab_type": "code",
    "id": "f-HQZCPYJwmw",
    "outputId": "b8382bff-b7be-47f2-f9ee-33f12331ae0e"
   },
   "outputs": [],
   "source": [
    "ax = scprep.plot.scatter2d(data_phate, c=data_loom.ca['Sample_nice'], figsize=(12,8), cmap=\"Spectral\",\n",
    "                           ticks=False, label_prefix=\"PHATE\")\n",
    "ax.set_aspect('equal')"
   ]
  },
  {
   "cell_type": "markdown",
   "metadata": {
    "colab_type": "text",
    "id": "5YLHO0yEJwnf"
   },
   "source": [
    "#### Plotting the fraction of spliced and unspliced reads in each sample"
   ]
  },
  {
   "cell_type": "code",
   "execution_count": null,
   "metadata": {
    "colab": {
     "base_uri": "https://localhost:8080/",
     "height": 369
    },
    "colab_type": "code",
    "id": "QIM5S7rCJwnm",
    "outputId": "090850fe-240a-4945-8ec0-8740289400ba"
   },
   "outputs": [],
   "source": [
    "data_loom.plot_fractions()"
   ]
  },
  {
   "cell_type": "markdown",
   "metadata": {
    "colab_type": "text",
    "id": "s9hPlDEjJwn8"
   },
   "source": [
    "### Discussion\n",
    "\n",
    "In pairs, discuss the following questions\n",
    "\n",
    "1. What do you notice about the number ratio of spliced to unspliced genes?\n",
    "2. What does this imply about the rate of transcription over time?"
   ]
  },
  {
   "cell_type": "markdown",
   "metadata": {
    "colab_type": "text",
    "id": "TQjVcDw3JwoO"
   },
   "source": [
    "## 2. Gene Filtering\n",
    "\n",
    "Just as we filter and preprocess RNA expression data, we need to do some preprocessing of the `VelocytoLoom` file."
   ]
  },
  {
   "cell_type": "markdown",
   "metadata": {
    "colab_type": "text",
    "id": "kCy2a5TBJwof"
   },
   "source": [
    "### Score detection levels\n",
    "\n",
    "Here we do a simple filtering based on the minimum number of cells in which a given gene is detected. We then throw away lowly expressed genes."
   ]
  },
  {
   "cell_type": "code",
   "execution_count": null,
   "metadata": {
    "colab": {},
    "colab_type": "code",
    "id": "Vske8C6sJwok"
   },
   "outputs": [],
   "source": [
    "# Identify genes with adequate baseline expression\n",
    "data_loom.score_detection_levels(min_expr_counts=40, min_cells_express=30)\n",
    "\n",
    "# Keep only genes passing detection threshold\n",
    "data_loom.filter_genes(by_detection_levels=True)"
   ]
  },
  {
   "cell_type": "markdown",
   "metadata": {
    "colab_type": "text",
    "id": "fioMsYiuJwo4"
   },
   "source": [
    "### Filter highly variable genes\n",
    "\n",
    "Here, we only keep genes with a high coefficient of variation with respect to mean expression."
   ]
  },
  {
   "cell_type": "code",
   "execution_count": null,
   "metadata": {
    "colab": {
     "base_uri": "https://localhost:8080/",
     "height": 283
    },
    "colab_type": "code",
    "id": "FnIkD8HFJwo9",
    "outputId": "294a3767-0dc7-4164-e3be-a8d8f570392e"
   },
   "outputs": [],
   "source": [
    "data_loom.score_cv_vs_mean(3000, plot=True, max_expr_avg=35)\n",
    "data_loom.filter_genes(by_cv_vs_mean=True)"
   ]
  },
  {
   "cell_type": "markdown",
   "metadata": {
    "colab_type": "text",
    "id": "zFVtJulyJwpE"
   },
   "source": [
    "### Filter genes by cluster expression\n",
    "\n",
    "Here, we keep genes that have adequate spliced and unspliced counts in clusters of the data. The following methods will do the clustering and ensure that we have sufficient spliced and unspliced counts throughout the full dataset."
   ]
  },
  {
   "cell_type": "code",
   "execution_count": null,
   "metadata": {
    "colab": {},
    "colab_type": "code",
    "id": "6qUJ669gJwpF"
   },
   "outputs": [],
   "source": [
    "# Consider number of spliced and unspliced counts globally\n",
    "data_loom.score_detection_levels(min_expr_counts=0, min_cells_express=0, \n",
    "                                 min_expr_counts_U=25, min_cells_express_U=20)\n",
    "\n",
    "# Consider number of spliced and unspliced counts in clusters\n",
    "data_loom.score_cluster_expression(min_avg_U=0.01, min_avg_S=0.08)\n",
    "data_loom.filter_genes(by_detection_levels=True, by_cluster_expression=True)"
   ]
  },
  {
   "cell_type": "markdown",
   "metadata": {
    "colab_type": "text",
    "id": "StaFj0jUJwpK"
   },
   "source": [
    "### Normalize the spliced and unspliced counts by library size "
   ]
  },
  {
   "cell_type": "code",
   "execution_count": null,
   "metadata": {
    "colab": {},
    "colab_type": "code",
    "id": "9H5aOYlkJwpM"
   },
   "outputs": [],
   "source": [
    "# Normalize Spliced and Unspliced gene expression matrices by library size.\n",
    "data_loom._normalize_S(relative_size=data_loom.initial_cell_size,\n",
    "                       target_size=np.mean(data_loom.initial_cell_size))\n",
    "data_loom._normalize_U(relative_size=data_loom.initial_Ucell_size,\n",
    "                       target_size=np.mean(data_loom.initial_Ucell_size))"
   ]
  },
  {
   "cell_type": "markdown",
   "metadata": {
    "colab_type": "text",
    "id": "5n_aMeIKJwpQ"
   },
   "source": [
    "### Pick a number of principal components to use for kNN smoothing"
   ]
  },
  {
   "cell_type": "code",
   "execution_count": null,
   "metadata": {
    "colab": {
     "base_uri": "https://localhost:8080/",
     "height": 300
    },
    "colab_type": "code",
    "id": "T2XxWMzBJwpS",
    "outputId": "236918bf-5839-4a68-9ef4-e530e25d9356"
   },
   "outputs": [],
   "source": [
    "# Pick a number of PCA components\n",
    "data_loom.perform_PCA()\n",
    "plt.plot(np.cumsum(data_loom.pca.explained_variance_ratio_)[:100])\n",
    "#n_comps = np.where(np.diff(np.diff(np.cumsum(vlm.pca.explained_variance_ratio_))>0.002))[0][0]\n",
    "n_comps = 25\n",
    "plt.axvline(n_comps, c=\"k\")\n",
    "plt.xlabel('n_components')\n",
    "plt.ylabel('Explained Variance')"
   ]
  },
  {
   "cell_type": "markdown",
   "metadata": {
    "colab_type": "text",
    "id": "QLsUKXw7JwpW"
   },
   "source": [
    "### Gene smoothing\n",
    "\n",
    "Because not all genes are detected in all cells, the ratio of spliced to unspliced is noisy (just like gene expression, but worse), we want to use local neighborhoods in the data to perform imputation and denoising. This is similar to the MAGIC algorithm discussed earlier, but it doesn't use diffusion. In the MAGIC paper, it was shown that MAGIC performs better than kNN for gene denoising, but this isn't our implementation, so we're not going to worry too much about that."
   ]
  },
  {
   "cell_type": "code",
   "execution_count": null,
   "metadata": {
    "colab": {},
    "colab_type": "code",
    "id": "XXXfK8RGJwpY"
   },
   "outputs": [],
   "source": [
    "# Denoise the data using kNN\n",
    "\n",
    "# Change k here to change how much denoising is performed\n",
    "k = 5\n",
    "data_loom.knn_imputation(n_pca_dims=n_comps, k=k, \n",
    "                         # velocyto uses an algorithm called BalancedKNN\n",
    "                         # for smoothing. These parameters are go directly\n",
    "                         # to BalancedKNN\n",
    "                         balanced=True, b_sight=k*8, b_maxl=k*4, \n",
    "                         n_jobs=-1)"
   ]
  },
  {
   "cell_type": "markdown",
   "metadata": {
    "colab_type": "text",
    "id": "gskiMdF9Jwpc"
   },
   "source": [
    "### Estimate the rate of transcription\n",
    "\n",
    "Here, we're going to estimate the rate of transcription for each gene. This involves estimating the steady-state expression for each gene and calculating the rate of transcription as a ratio of the spliced and unspliced molecules in each cell."
   ]
  },
  {
   "cell_type": "code",
   "execution_count": null,
   "metadata": {
    "colab": {},
    "colab_type": "code",
    "id": "BGP5DJCwJwpe"
   },
   "outputs": [],
   "source": [
    "# Fit gamma (stable state unspliced to spliced ratio) \n",
    "# and calculate gene shift at all cells\n",
    "\n",
    "# Learn steady-state U/S ratio\n",
    "data_loom.fit_gammas(limit_gamma=False, fit_offset=False)\n",
    "\n",
    "# Estimate rate of transcription \n",
    "data_loom.predict_U()\n",
    "\n",
    "# Calculate individual cell \"next state\"\n",
    "data_loom.calculate_velocity()\n",
    "data_loom.calculate_shift(assumption=\"constant_velocity\")\n",
    "data_loom.extrapolate_cell_at_t(delta_t=1.)"
   ]
  },
  {
   "cell_type": "markdown",
   "metadata": {
    "colab_type": "text",
    "id": "goqgsB6GJwpi"
   },
   "source": [
    "## Gene Scatterplots\n",
    "\n",
    "Now that we have estimated the rate of transcription and splicing for each cell, we can inspect how well these curves match the data we're observing. Remember that one assumption of RNA-velocity is that the rate of splicing is constant across all cells in a dataset."
   ]
  },
  {
   "cell_type": "code",
   "execution_count": null,
   "metadata": {
    "colab": {
     "base_uri": "https://localhost:8080/",
     "height": 607
    },
    "colab_type": "code",
    "id": "nwCctQItJwpj",
    "outputId": "8cbc2878-aad5-49f1-ccb9-87796aa53a84",
    "scrolled": false
   },
   "outputs": [],
   "source": [
    "# Plot for a few genes the spliced and unspliced counts, as well as\n",
    "# The calculated gene velocity, and expression at each cell.\n",
    "\n",
    "fig, axes = plt.subplots(2, 3, figsize=(9,6))\n",
    "for gene, axis_row in zip(['CD63', 'FEZ1'], axes):\n",
    "#for i, gn in enumerate([\"FOXD3\", 'GATA6']):\n",
    "    ax_left, ax_middle, ax_right = axis_row\n",
    "    if not np.any(data_loom.ra[\"Gene\"] == gene):\n",
    "        # this gene doesn't exist!\n",
    "        continue\n",
    "    else:\n",
    "        gene_idx = np.argwhere(data_loom.ra[\"Gene\"] == gene)[0,0]\n",
    "    plt.sca(ax_left)\n",
    "    velocyto.scatter_viz(data_loom.Sx_sz[gene_idx,:], data_loom.Ux_sz[gene_idx,:], s=5,\n",
    "                         c=data_loom.colorandum, alpha=0.4, rasterized=True)\n",
    "    ax_left.set_title(gene)\n",
    "    xnew = np.linspace(0, data_loom.Sx[gene_idx,:].max())\n",
    "    ax_left.plot(xnew, data_loom.gammas[gene_idx] * xnew + data_loom.q[gene_idx], c=\"k\")\n",
    "    plt.ylim(0, np.max(data_loom.Ux_sz[gene_idx,:])*1.02)\n",
    "    plt.xlim(0, np.max(data_loom.Sx_sz[gene_idx,:])*1.02)\n",
    "    plt.xlabel('Spliced Counts')\n",
    "    plt.ylabel('Unspliced Counts')\n",
    "    data_loom.plot_velocity_as_color(gene_name=gene, gs=ax_middle, s=3, rasterized=True)\n",
    "    plt.title('{} - Velocity'.format(gene))\n",
    "    data_loom.plot_expression_as_color(gene_name=gene, gs=ax_right, s=3, rasterized=True)\n",
    "    plt.title('{} - Expression'.format(gene))\n",
    "\n",
    "plt.tight_layout()"
   ]
  },
  {
   "cell_type": "markdown",
   "metadata": {
    "colab_type": "text",
    "id": "F_QjxwSzhTtb"
   },
   "source": [
    "### Discussion\n",
    "For these questions, it might be helpful to consults figures from the RNA Velocity paper: https://www.ncbi.nlm.nih.gov/pubmed/30089906\n",
    "1. What do these plots mean given the way RNA velocity is calcualted?\n",
    "2. How do these plots compare to the figures from [the RNA velocity paper](https://www.nature.com/articles/s41586-018-0414-6)? Compare to Fig. 3b."
   ]
  },
  {
   "cell_type": "markdown",
   "metadata": {
    "colab_type": "text",
    "id": "Qh74ltcUJwpq"
   },
   "source": [
    "## 3. Estimate transition probabilities\n",
    "\n",
    "Here we take the set of all predicted \"next states\" for each cell and estimate a future cell profile. Because each gene estimate is noisy, we take averages of neighbors.\n",
    "\n",
    "This is the most computationally intensive step of RNA-velocity analysis, so it may take 1-3 minutes to finish.\n",
    "\n",
    "Also, heads up, you may see several red warnings come up. You can ignore these. They are due to the velocyto implementation and not anything we've done here."
   ]
  },
  {
   "cell_type": "code",
   "execution_count": null,
   "metadata": {
    "colab": {
     "base_uri": "https://localhost:8080/",
     "height": 106
    },
    "colab_type": "code",
    "id": "RCoH4CfAJwpx",
    "outputId": "48d43049-54bc-4795-c4de-f5090dd7055f",
    "scrolled": true
   },
   "outputs": [],
   "source": [
    "# Estimate the transition direction of each cell in gene space\n",
    "# This is the most compuationally intensive step.\n",
    "data_loom.estimate_transition_prob(hidim=\"Sx_sz\", embed=\"ts\", transform=\"sqrt\", psc=1,\n",
    "                                   n_neighbors=2000, knn_random=True, sampled_fraction=0.5,\n",
    "                                   calculate_randomized=True, n_jobs=-1)"
   ]
  },
  {
   "cell_type": "markdown",
   "metadata": {
    "colab_type": "text",
    "id": "A5XOw7LoJwp8"
   },
   "source": [
    "#### Calculate the next cell profile in the embedding space\n",
    "\n",
    "Once we know the expected gene expression profile of each cell, we need to calculate where that cell would appear in the PHATE space to create the velocity plots."
   ]
  },
  {
   "cell_type": "code",
   "execution_count": null,
   "metadata": {
    "colab": {},
    "colab_type": "code",
    "id": "61iMV20JJwp9",
    "scrolled": false
   },
   "outputs": [],
   "source": [
    "# Calculate from the gene velocity vectors in the embedding space\n",
    "data_loom.calculate_embedding_shift(sigma_corr = 0.05, expression_scaling=False)\n",
    "\n",
    "# Calculate a 50x50 grid of velocities over the embedding space\n",
    "data_loom.calculate_grid_arrows(smooth=0.5, steps=(50, 50), n_neighbors=100)"
   ]
  },
  {
   "cell_type": "markdown",
   "metadata": {
    "colab_type": "text",
    "id": "KUijzaf1JwqA"
   },
   "source": [
    "### Plotting Velocity Vectors\n",
    "\n",
    "These are the fancy plots highlighted in the RNA velocity paper. Each cell gets an arrow pointing to it's future cell state. You can see the flow of cell states throughout development!"
   ]
  },
  {
   "cell_type": "code",
   "execution_count": null,
   "metadata": {
    "colab": {
     "base_uri": "https://localhost:8080/",
     "height": 878
    },
    "colab_type": "code",
    "id": "Pswtr6t3JwqC",
    "outputId": "9f3801c8-5120-4fbe-bb09-1fa6f3256f35"
   },
   "outputs": [],
   "source": [
    "# Plot per cell velocity directions\n",
    "plt.figure(None,(14,14))\n",
    "quiver_scale = 10\n",
    "q_scale=1\n",
    "ix_choice = np.random.choice(data_loom.embedding.shape[0],\n",
    "                             size=int(data_loom.embedding.shape[0]/1.), replace=False)\n",
    "\n",
    "# Plotting each cell using the pyplot scatter function \n",
    "plt.scatter(data_loom.embedding[ix_choice, 0], data_loom.embedding[ix_choice, 1],\n",
    "            c=\"0.8\", alpha=0.4, s=10, edgecolor=(0,0,0,1), lw=0.3, rasterized=True)\n",
    "\n",
    "# Plotting the arrows \n",
    "quiver_kwargs = dict(headaxislength=7, headlength=11, headwidth=8,\n",
    "                     linewidths=0.25, width=0.00045, edgecolors=\"k\",\n",
    "                     color=data_loom.colorandum[ix_choice], alpha=1)\n",
    "plt.quiver(data_loom.embedding[ix_choice, 0], data_loom.embedding[ix_choice, 1], \n",
    "           q_scale*data_loom.delta_embedding[ix_choice, 0],\n",
    "           q_scale*data_loom.delta_embedding[ix_choice, 1],\n",
    "           scale=quiver_scale, **quiver_kwargs)\n",
    "\n",
    "plt.axis(\"off\")"
   ]
  },
  {
   "cell_type": "markdown",
   "metadata": {
    "colab_type": "text",
    "id": "ejXlmA4hJwqK"
   },
   "source": [
    "### Plot arrows on a grid\n",
    "\n",
    "Here we're plotting the average arrow for each section of the grid. This is a much \"prettier\" plot."
   ]
  },
  {
   "cell_type": "code",
   "execution_count": null,
   "metadata": {
    "colab": {
     "base_uri": "https://localhost:8080/",
     "height": 729
    },
    "colab_type": "code",
    "id": "TCIj3WiCJwqN",
    "outputId": "418b457a-6000-4a9a-afcd-505fa3fec4c9",
    "scrolled": false
   },
   "outputs": [],
   "source": [
    "# Plot velocity on grid points smoothing cell velocities.\n",
    "plt.figure(1,(10,10))\n",
    "\n",
    "# Plot the arrows\n",
    "data_loom.plot_grid_arrows(quiver_scale=0.5,\n",
    "                           scatter_kwargs_dict={\"alpha\":0.35, \"lw\":0.35, \n",
    "                           \"edgecolor\":\"0.4\", \"s\":38, \"rasterized\":True},\n",
    "                           plot_random=False)\n",
    "\n",
    "plt.tight_layout()"
   ]
  },
  {
   "cell_type": "markdown",
   "metadata": {
    "colab_type": "text",
    "id": "g_FPPZo6JwqP"
   },
   "source": [
    "### Discussion\n",
    "\n",
    "1. Looking at this data, how many end points do you think exist in the EB dataset?"
   ]
  },
  {
   "cell_type": "markdown",
   "metadata": {
    "colab_type": "text",
    "id": "yBu9JOc3JwqT"
   },
   "source": [
    "## 4. Identify genes with largest changing velocity"
   ]
  },
  {
   "cell_type": "code",
   "execution_count": null,
   "metadata": {
    "colab": {},
    "colab_type": "code",
    "id": "foHaOcSqJwqT"
   },
   "outputs": [],
   "source": [
    "data = pd.DataFrame(data_loom.U + data_loom.S, index=data_loom.ra['Gene'], columns=data_loom.ca['CellID']).T"
   ]
  },
  {
   "cell_type": "code",
   "execution_count": null,
   "metadata": {
    "colab": {},
    "colab_type": "code",
    "id": "DhLKKzrBJwqZ"
   },
   "outputs": [],
   "source": [
    "data = scprep.normalize.library_size_normalize(data)\n",
    "data = scprep.transform.sqrt(data)"
   ]
  },
  {
   "cell_type": "markdown",
   "metadata": {
    "colab_type": "text",
    "id": "hFxqwMZYJwqb"
   },
   "source": [
    "### Cluster the data\n",
    "\n",
    "Here we're using PHATE to define clusters in a method similar to spectral clustering. You will have to set `n_clusters`. Consult the PHATE plot and determine how many clusters you need so that each \"end point\" is in a separate cluster.\n",
    "\n",
    "Note: since clustering is highly influenced by the random initialization, we are setting the seed here to ensure reproducible results."
   ]
  },
  {
   "cell_type": "code",
   "execution_count": null,
   "metadata": {
    "colab": {
     "base_uri": "https://localhost:8080/",
     "height": 432
    },
    "colab_type": "code",
    "id": "4dYog9cNJwqc",
    "outputId": "ec47804d-5f04-4629-df11-19ea1ef406c8"
   },
   "outputs": [],
   "source": [
    "phate_op = phate.PHATE(verbose=False, random_state=42).fit(data)"
   ]
  },
  {
   "cell_type": "code",
   "execution_count": null,
   "metadata": {
    "colab": {
     "base_uri": "https://localhost:8080/",
     "height": 432
    },
    "colab_type": "code",
    "id": "4dYog9cNJwqc",
    "outputId": "ec47804d-5f04-4629-df11-19ea1ef406c8"
   },
   "outputs": [],
   "source": [
    "# =======\n",
    "# Pick a number of clusters\n",
    "n_clusters = ???\n",
    "clusters = phate.cluster.kmeans(phate_op, n_clusters=n_clusters, random_state=42)\n",
    "clusters = scprep.utils.sort_clusters_by_values(clusters, data_phate[0])\n",
    "# ======="
   ]
  },
  {
   "cell_type": "markdown",
   "metadata": {
    "colab_type": "text",
    "id": "1MYactXfJwqf"
   },
   "source": [
    "#### Plotting clusters"
   ]
  },
  {
   "cell_type": "code",
   "execution_count": null,
   "metadata": {
    "colab": {},
    "colab_type": "code",
    "id": "Ny-VchJ1Jwqg"
   },
   "outputs": [],
   "source": [
    "# Plot clusters\n",
    "ax = scprep.plot.scatter2d(data_phate, c=clusters, figsize=(12,8),\n",
    "                           ticks=False, label_prefix=\"PHATE\")\n",
    "ax.set_aspect('equal')"
   ]
  },
  {
   "cell_type": "markdown",
   "metadata": {
    "colab_type": "text",
    "id": "xo95Hv5eJwqj"
   },
   "source": [
    "#### Plotting velocity on clusters"
   ]
  },
  {
   "cell_type": "code",
   "execution_count": null,
   "metadata": {
    "colab": {
     "base_uri": "https://localhost:8080/",
     "height": 609
    },
    "colab_type": "code",
    "id": "w_59ReVeJwqk",
    "outputId": "877f46cb-3249-4665-8a9a-22188b77e86d"
   },
   "outputs": [],
   "source": [
    "# Plot velocity on grid points smoothing cell velocities.\n",
    "fig, ax = plt.subplots(figsize=(10,10))\n",
    "\n",
    "cm = plt.cm.tab20(np.linspace(0, 1, 20))\n",
    "cmap = {cl:cm[cl] for cl in np.unique(clusters)}\n",
    "data_loom.colorandum = np.array([cm[cl] for cl in clusters])\n",
    "\n",
    "# Plot the arrows\n",
    "data_loom.plot_grid_arrows(\n",
    "    quiver_scale=0.5,\n",
    "    scatter_kwargs_dict={\"alpha\":0.35, \"lw\":0.35, \n",
    "    \"edgecolor\":\"0.4\", \"s\":38, \"rasterized\":True},\n",
    "    plot_random=False)\n",
    "\n",
    "scprep.plot.tools.generate_legend(cmap, ax, bbox_to_anchor=(1,1))"
   ]
  },
  {
   "cell_type": "markdown",
   "metadata": {
    "colab_type": "text",
    "id": "drhJSDEeJwqp"
   },
   "source": [
    "### Running slingshot informed by RNA velocity\n",
    "\n",
    "Go back and compare these plots to the Slingshot results from the \"02_Embryoid_body_trajectory_inference\" notebook. Do you think there might be other endpoints in this data?"
   ]
  },
  {
   "cell_type": "markdown",
   "metadata": {
    "colab_type": "text",
    "id": "AinemdRyfBbr"
   },
   "source": [
    "#### Run slingshot\n",
    "\n",
    "Looking at the above plots, what do you think the correct `end_cluster` should be for Slingshot? How many do you think there are? Pass the cluster labels as a list to slingshot, e.g. `end_cluster=[0,1,2,3]`\n",
    "\n",
    "To confirm the results look good, consult the plot of the principal curves and average pseudotime per cell."
   ]
  },
  {
   "cell_type": "code",
   "execution_count": null,
   "metadata": {
    "colab": {
     "base_uri": "https://localhost:8080/",
     "height": 52
    },
    "colab_type": "code",
    "id": "gSE9so3vJwq0",
    "outputId": "617068c2-3c36-488f-c100-0a6b4ab305ce"
   },
   "outputs": [],
   "source": [
    "import tasklogger\n",
    "with tasklogger.log_task(\"Slingshot\"):\n",
    "    # =========\n",
    "    # Set the end points for Slingshot\n",
    "    results = scprep.run.Slingshot(data_phate, clusters, start_cluster=[0], ...)\n",
    "    # ========="
   ]
  },
  {
   "cell_type": "code",
   "execution_count": null,
   "metadata": {
    "colab": {
     "base_uri": "https://localhost:8080/",
     "height": 314
    },
    "colab_type": "code",
    "id": "ZOcRehZoJwq3",
    "outputId": "ee6ff2cd-bc49-4503-a305-d592228d20c6"
   },
   "outputs": [],
   "source": [
    "ax = scprep.plot.scatter2d(data_phate, c=clusters, legend_anchor=(1,1))\n",
    "for curve in results['curves']:\n",
    "    ax.plot(curve[:,0], curve[:,1], c='k')"
   ]
  },
  {
   "cell_type": "markdown",
   "metadata": {
    "colab_type": "text",
    "id": "VZ7pvbUgJwq5"
   },
   "source": [
    "### Calculate the average slingshot pseudotime per cell"
   ]
  },
  {
   "cell_type": "code",
   "execution_count": null,
   "metadata": {
    "colab": {},
    "colab_type": "code",
    "id": "HNsBDqnbJwq6"
   },
   "outputs": [],
   "source": [
    "# To calculate the average slingshot pseudotime, we can use np.nanmean\n",
    "avg_slingshot_pseudotime = np.nanmean(results['pseudotime'], axis=1)"
   ]
  },
  {
   "cell_type": "code",
   "execution_count": null,
   "metadata": {
    "colab": {
     "base_uri": "https://localhost:8080/",
     "height": 297
    },
    "colab_type": "code",
    "id": "LD5zQwlxJwq9",
    "outputId": "51e2c0a9-d3ba-4e50-f601-a23fdc6dabce"
   },
   "outputs": [],
   "source": [
    "ax = scprep.plot.scatter2d(data_phate, c=avg_slingshot_pseudotime)"
   ]
  },
  {
   "cell_type": "markdown",
   "metadata": {
    "colab_type": "text",
    "id": "qetIooHFfyjw"
   },
   "source": [
    "### Discussion\n",
    "\n",
    "1. With your groups, find a number of clusters and set of endpoints that give you results that match the PHATE plot and the RNA velocity results."
   ]
  },
  {
   "cell_type": "markdown",
   "metadata": {
    "colab_type": "text",
    "id": "7eS_nnH6JwrB"
   },
   "source": [
    "### Calculate average velocity per cluster\n",
    "\n",
    "Here we calculate the velocity for each gene in each cell, then use `pd.DataFrame.groupby()` to calculate the average velocity in each cluster.\n",
    "\n",
    "Each row of the resulting dataset corresponds to a cluster and each column is a gene."
   ]
  },
  {
   "cell_type": "code",
   "execution_count": null,
   "metadata": {
    "colab": {
     "base_uri": "https://localhost:8080/",
     "height": 256
    },
    "colab_type": "code",
    "id": "gTkjHVIGJwrC",
    "outputId": "e5d90dfb-ab25-4dd4-9dfa-8e4f458a6a49",
    "scrolled": false
   },
   "outputs": [],
   "source": [
    "velocity = pd.DataFrame(data_loom.velocity, index=data_loom.ra['Gene'], columns=data_loom.ca['CellID']).T\n",
    "\n",
    "mean_velocity_per_cluster = velocity.groupby(clusters).mean()\n",
    "mean_velocity_per_cluster"
   ]
  },
  {
   "cell_type": "markdown",
   "metadata": {
    "colab_type": "text",
    "id": "O3UT6h0LJwrF"
   },
   "source": [
    "#### Print the genes with the highest mean velocity"
   ]
  },
  {
   "cell_type": "code",
   "execution_count": null,
   "metadata": {
    "colab": {
     "base_uri": "https://localhost:8080/",
     "height": 382
    },
    "colab_type": "code",
    "id": "nZSwyE7kJwrG",
    "outputId": "fb129e00-ea17-432d-94a0-4041d22bac11"
   },
   "outputs": [],
   "source": [
    "# choose a cluster id\n",
    "cluster_id = 0\n",
    "mean_velocity_per_cluster.loc[cluster_id].sort_values(ascending=False).head(20)"
   ]
  },
  {
   "cell_type": "markdown",
   "metadata": {
    "colab_type": "text",
    "id": "8fgSAUKzJwrK"
   },
   "source": [
    "#### Plotting expression ordered by pseudotime"
   ]
  },
  {
   "cell_type": "code",
   "execution_count": null,
   "metadata": {
    "colab": {
     "base_uri": "https://localhost:8080/",
     "height": 314
    },
    "colab_type": "code",
    "id": "Q9tF7urLJwrK",
    "outputId": "d502771d-c70b-42e8-b3d5-8f636db96286"
   },
   "outputs": [],
   "source": [
    "scprep.plot.scatter(avg_slingshot_pseudotime, data['SYT1'], \n",
    "                    c=clusters, xlabel='Pseudotime', legend_anchor=(1,1))"
   ]
  },
  {
   "cell_type": "markdown",
   "metadata": {
    "colab_type": "text",
    "id": "A5hzsJdxJwqp"
   },
   "source": [
    "#### Run MAGIC\n",
    "\n",
    "Because the expression data is so noisy, it's hard to see much here with just a single gene. Let's clean it up with MAGIC and see if we can see any clear trends."
   ]
  },
  {
   "cell_type": "code",
   "execution_count": null,
   "metadata": {
    "colab": {},
    "colab_type": "code",
    "id": "u6Oe8uJvJwqq"
   },
   "outputs": [],
   "source": [
    "import magic"
   ]
  },
  {
   "cell_type": "code",
   "execution_count": null,
   "metadata": {
    "colab": {
     "base_uri": "https://localhost:8080/",
     "height": 243
    },
    "colab_type": "code",
    "id": "RyCIl7vOcEM1",
    "outputId": "2b15e7e7-7d2a-4a82-bc99-094ac8e59fc4"
   },
   "outputs": [],
   "source": [
    "np.random.seed(42)\n",
    "data_magic = magic.MAGIC(t=4).fit_transform(data)"
   ]
  },
  {
   "cell_type": "code",
   "execution_count": null,
   "metadata": {},
   "outputs": [],
   "source": [
    "scprep.plot.scatter(avg_slingshot_pseudotime, data_magic['SYT1'], \n",
    "                    c=clusters, xlabel='Pseudotime', legend_anchor=(1,1))"
   ]
  },
  {
   "cell_type": "markdown",
   "metadata": {
    "colab_type": "text",
    "id": "aKPrGZgYJwrQ"
   },
   "source": [
    "### Discussion\n",
    "\n",
    "1. Pick a cluster that looks like it has high RNA velocity in the above plots (each member of your group should pick a different cluster)\n",
    "2. Get the top 20 genes with the high average velocity in that cluster\n",
    "3. Plot the expression of some of those genes against pseudotime\n",
    "4. Does pseudotime ordering match the RNA velocity prediction for your cluster?\n",
    "5. Identify one gene for which pseudotime and RNA velocity agree and one for which they do not\n",
    "\n",
    "As a group, compare your results."
   ]
  }
 ],
 "metadata": {
  "colab": {
   "machine_shape": "hm",
   "name": "03_RNA_velocity.ipynb",
   "provenance": []
  },
  "kernelspec": {
   "display_name": "Python 3",
   "language": "python",
   "name": "python3"
  },
  "language_info": {
   "codemirror_mode": {
    "name": "ipython",
    "version": 3
   },
   "file_extension": ".py",
   "mimetype": "text/x-python",
   "name": "python",
   "nbconvert_exporter": "python",
   "pygments_lexer": "ipython3",
   "version": "3.8.5"
  }
 },
 "nbformat": 4,
 "nbformat_minor": 1
}
